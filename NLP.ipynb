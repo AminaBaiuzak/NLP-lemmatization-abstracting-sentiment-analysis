{
  "nbformat": 4,
  "nbformat_minor": 0,
  "metadata": {
    "colab": {
      "provenance": []
    },
    "kernelspec": {
      "name": "python3",
      "display_name": "Python 3"
    },
    "language_info": {
      "name": "python"
    }
  },
  "cells": [
    {
      "cell_type": "markdown",
      "source": [
        "# NLP"
      ],
      "metadata": {
        "id": "uCOQfcWmhDej"
      }
    },
    {
      "cell_type": "markdown",
      "source": [
        "## Лемматизации текста"
      ],
      "metadata": {
        "id": "nMkLo4kWhHAt"
      }
    },
    {
      "cell_type": "code",
      "source": [
        "import nltk\n",
        "from nltk import word_tokenize, pos_tag\n",
        "from nltk.corpus import wordnet\n",
        "from nltk.stem import WordNetLemmatizer\n",
        "import re\n",
        "\n",
        "nltk.download('punkt')\n",
        "nltk.download('averaged_perceptron_tagger')\n",
        "nltk.download('wordnet')"
      ],
      "metadata": {
        "colab": {
          "base_uri": "https://localhost:8080/"
        },
        "id": "wX3SRmrZvK9p",
        "outputId": "171c51cc-72bf-4119-a9eb-222eee8bdb9e"
      },
      "execution_count": null,
      "outputs": [
        {
          "output_type": "stream",
          "name": "stderr",
          "text": [
            "[nltk_data] Downloading package punkt to /root/nltk_data...\n",
            "[nltk_data]   Package punkt is already up-to-date!\n",
            "[nltk_data] Downloading package averaged_perceptron_tagger to\n",
            "[nltk_data]     /root/nltk_data...\n",
            "[nltk_data]   Package averaged_perceptron_tagger is already up-to-\n",
            "[nltk_data]       date!\n",
            "[nltk_data] Downloading package wordnet to /root/nltk_data...\n",
            "[nltk_data]   Package wordnet is already up-to-date!\n"
          ]
        },
        {
          "output_type": "execute_result",
          "data": {
            "text/plain": [
              "True"
            ]
          },
          "metadata": {},
          "execution_count": 38
        }
      ]
    },
    {
      "cell_type": "code",
      "source": [
        "def get_pos_tags(tag):\n",
        "  if tag.startswith('J'):\n",
        "      wordnet_tag = wordnet.ADJ\n",
        "      simplified_tag = 'A' #прилагательные\n",
        "  elif tag.startswith('V'):\n",
        "      wordnet_tag = wordnet.VERB\n",
        "      simplified_tag = 'V' #глаголы\n",
        "  elif tag.startswith('N'):\n",
        "      wordnet_tag = wordnet.NOUN\n",
        "      simplified_tag = 'S' #существительные\n",
        "  elif tag.startswith('R'):\n",
        "      wordnet_tag = wordnet.ADV\n",
        "      simplified_tag = 'ADV'\n",
        "  elif tag in {'IN', 'TO'}:\n",
        "      wordnet_tag = wordnet.NOUN\n",
        "      simplified_tag = 'PR'\n",
        "  elif tag in {'CC'}:\n",
        "      wordnet_tag = wordnet.NOUN\n",
        "      simplified_tag = 'CONJ' #союзы\n",
        "  else:\n",
        "      wordnet_tag = wordnet.NOUN\n",
        "      simplified_tag = 'ADV' #сборная категория\n",
        "\n",
        "  return wordnet_tag, simplified_tag\n",
        "\n",
        "def lemmatize_text(text):\n",
        "  lemmatizer = WordNetLemmatizer()\n",
        "\n",
        "  sentences = nltk.sent_tokenize(text)\n",
        "  lemmatized_sentences = []\n",
        "\n",
        "  for sentence in sentences:\n",
        "    sentence=re.sub(r'[^\\w\\s]','',sentence)\n",
        "    tokens = word_tokenize(sentence)\n",
        "    # print(tokens)\n",
        "    pos_tags = pos_tag(tokens)\n",
        "    # print(\"pos_tags\", pos_tags)\n",
        "\n",
        "    lemmatized_tokens = []\n",
        "\n",
        "    for word, pos in pos_tags:\n",
        "      wordnet_tag, simplified_tag = get_pos_tags(pos)\n",
        "      lemma = lemmatizer.lemmatize(word.lower(), wordnet_tag)\n",
        "      lemmatized_tokens.append(f\"{word}{{{lemma}={simplified_tag}}}\")\n",
        "\n",
        "    lemmatized_sentence = \" \".join(lemmatized_tokens)\n",
        "    lemmatized_sentences.append(lemmatized_sentence)\n",
        "\n",
        "  return \"\\n\".join(lemmatized_sentences)\n",
        "\n",
        "input_text = \"\"\"Endeavor bachelor but add eat pleasure doubtful sociable.\n",
        "Age forming covered you entered the examine.\n",
        "Blessing scarcely confined her contempt wondered shy. \"\"\"\n",
        "\n",
        "lemmatized_output = lemmatize_text(input_text)\n",
        "print(lemmatized_output)"
      ],
      "metadata": {
        "colab": {
          "base_uri": "https://localhost:8080/"
        },
        "id": "UWK2P88skJ78",
        "outputId": "8079abd5-d643-45bc-eb88-162653247df1"
      },
      "execution_count": null,
      "outputs": [
        {
          "output_type": "stream",
          "name": "stdout",
          "text": [
            "Endeavor{endeavor=S} bachelor{bachelor=S} but{but=CONJ} add{add=V} eat{eat=A} pleasure{pleasure=S} doubtful{doubtful=S} sociable{sociable=A}\n",
            "Age{age=S} forming{forming=S} covered{cover=V} you{you=ADV} entered{enter=V} the{the=ADV} examine{examine=S}\n",
            "Blessing{bless=V} scarcely{scarcely=ADV} confined{confine=V} her{her=ADV} contempt{contempt=S} wondered{wonder=V} shy{shy=A}\n"
          ]
        }
      ]
    },
    {
      "cell_type": "markdown",
      "source": [
        "## Разработка и тестирование метода автоматического реферирования.\n"
      ],
      "metadata": {
        "id": "JYI6gdc9hLTq"
      }
    },
    {
      "cell_type": "code",
      "source": [
        "from sklearn.feature_extraction.text import TfidfVectorizer\n",
        "from sklearn.metrics.pairwise import cosine_similarity\n",
        "import numpy as np\n",
        "\n",
        "def split_into_sentences(text):\n",
        "  text = re.sub(r'\\[\\d+(\\]\\[\\d+)*\\]', '', text)\n",
        "  sentences = nltk.sent_tokenize(text)\n",
        "  return [re.sub(r'[^\\w\\s]|[\\x00-\\x1F\\x7F-\\x9F]', '', sentence) for sentence in sentences]\n",
        "\n",
        "def read_text_file(file_path):\n",
        "  with open(file_path, 'r', encoding='utf-8') as file:\n",
        "    text = file.read()\n",
        "  return text"
      ],
      "metadata": {
        "id": "_nYYUkLfhV9y"
      },
      "execution_count": null,
      "outputs": []
    },
    {
      "cell_type": "code",
      "source": [
        "def extract_key_sentences(text, num_sentences=3):\n",
        "  sentences = split_into_sentences(text)\n",
        "\n",
        "  vectorizer = TfidfVectorizer()\n",
        "  tfidf_matrix = vectorizer.fit_transform(sentences)\n",
        "\n",
        "  sentence_scores = tfidf_matrix.sum(axis=1).flatten().tolist()[0]\n",
        "\n",
        "  ranked_sentences = sorted(((score, sentence) for score, sentence in zip(sentence_scores, sentences)), reverse=True)\n",
        "\n",
        "  unique_sentences = set()\n",
        "  result = []\n",
        "\n",
        "  for _, sentence in ranked_sentences:\n",
        "    if sentence not in unique_sentences:\n",
        "        unique_sentences.add(sentence)\n",
        "        result.append(sentence)\n",
        "        if len(result) == num_sentences:\n",
        "            break\n",
        "\n",
        "  return result\n",
        "\n",
        "text_1 = read_text_file('article1.txt')\n",
        "text_2 = read_text_file('article2.txt')\n",
        "text_3 = read_text_file('article3.txt')\n",
        "\n",
        "key_sentences_1 = extract_key_sentences(text_1, num_sentences=3)\n",
        "key_sentences_2 = extract_key_sentences(text_2, num_sentences=3)\n",
        "key_sentences_3 = extract_key_sentences(text_3, num_sentences=3)\n",
        "\n",
        "print(\"Extracted sentences from document 1:\")\n",
        "print(\"\\n\".join(key_sentences_1), '\\n')\n",
        "\n",
        "print(\"Extracted sentences from document 2:\")\n",
        "print(\"\\n\".join(key_sentences_2), '\\n')\n",
        "\n",
        "print(\"Extracted sentences from document 3:\")\n",
        "print(\"\\n\".join(key_sentences_3), '\\n')"
      ],
      "metadata": {
        "colab": {
          "base_uri": "https://localhost:8080/"
        },
        "id": "9x5wzFOL4NVH",
        "outputId": "9b57d7d2-136d-4e34-bb90-3ca248dcbe82"
      },
      "execution_count": null,
      "outputs": [
        {
          "output_type": "stream",
          "name": "stdout",
          "text": [
            "Extracted sentences from document 1:\n",
            "Amongst these characteristics of music melody is considered to be the most creative specific and expressive element that characterizesmusic\n",
            "When two music share the unique parts ofmelody which is rarely uses in others plagiarism can be suspected\n",
            "With growing useof the World Wide Web the revenue loss due toplagiarism and pirate copies has been escalatingexponentially \n",
            "\n",
            "Extracted sentences from document 2:\n",
            "In this paper we address the development of a system that detects plagiarism based on the similar melody searching which is an operation that finds the melodies similar to a given query melody from a music database\n",
            "Introduction Recently the use of various types of multimedia data such as images videos and audios has shown its explosive growth so the contentbased search became of great importance\n",
            "Unlike such previous systems as  our plagiarism detection system has its unique characteristics as follows  A novel similarity model it solves the problem of misjudgment by supporting alignment as well as shifting in the similarity model \n",
            "\n",
            "Extracted sentences from document 3:\n",
            "By using mfcc entropy and mean energy level we have created a robust fingerprinting algorithm which enables us to differentiate copies from original musicthese three features have been chosen because of two major considerationsThe first being that an algorithm that is extremely efficient meaning that it pin points plagiarism easily and without error\n",
            "Abstract Music plagiarism detector is an alternative approach for music genre classification which converts the audio signal into spectrograms and then extracts features from this visual representation\n",
            "However only recently with access to the internet and there by a huge range of song we have come to realise just how many songs are fake \n",
            "\n"
          ]
        }
      ]
    },
    {
      "cell_type": "code",
      "source": [
        "combined_text = text_1 + \" \" + text_2 + \" \" + text_3\n",
        "overall_key_sentences = extract_key_sentences(combined_text, num_sentences=6)\n",
        "print(\"Extracted 6 sentences from all combined documents:\")\n",
        "print(\"\\n\".join(overall_key_sentences))"
      ],
      "metadata": {
        "colab": {
          "base_uri": "https://localhost:8080/"
        },
        "id": "xs-g-dKu0AMQ",
        "outputId": "41bf6902-41ad-4d91-89cf-2b2a741e3123"
      },
      "execution_count": null,
      "outputs": [
        {
          "output_type": "stream",
          "name": "stdout",
          "text": [
            "Extracted 6 sentences from all combined documents:\n",
            "By using mfcc entropy and mean energy level we have created a robust fingerprinting algorithm which enables us to differentiate copies from original musicthese three features have been chosen because of two major considerationsThe first being that an algorithm that is extremely efficient meaning that it pin points plagiarism easily and without error\n",
            "In this paper we address the development of a system that detects plagiarism based on the similar melody searching which is an operation that finds the melodies similar to a given query melody from a music database\n",
            "Introduction Recently the use of various types of multimedia data such as images videos and audios has shown its explosive growth so the contentbased search became of great importance\n",
            "Unlike such previous systems as  our plagiarism detection system has its unique characteristics as follows  A novel similarity model it solves the problem of misjudgment by supporting alignment as well as shifting in the similarity model\n",
            "Abstract Music plagiarism detector is an alternative approach for music genre classification which converts the audio signal into spectrograms and then extracts features from this visual representation\n",
            "However only recently with access to the internet and there by a huge range of song we have come to realise just how many songs are fake\n"
          ]
        }
      ]
    },
    {
      "cell_type": "code",
      "source": [
        "pip install sumy"
      ],
      "metadata": {
        "id": "hR_CZO1Qk1VM"
      },
      "execution_count": null,
      "outputs": []
    },
    {
      "cell_type": "code",
      "source": [
        "import re\n",
        "from sumy.parsers.plaintext import PlaintextParser\n",
        "from sumy.nlp.tokenizers import Tokenizer\n",
        "from sumy.summarizers.luhn import LuhnSummarizer\n",
        "from sumy.summarizers.lsa import LsaSummarizer\n",
        "from sumy.summarizers.text_rank import TextRankSummarizer\n",
        "\n",
        "def summarize_text(text, summarizer_class, num_sentences=3):\n",
        "    parser = PlaintextParser.from_string(text, Tokenizer(\"english\"))\n",
        "    summarizer = summarizer_class()\n",
        "    summary = summarizer(parser.document, num_sentences)\n",
        "    return [str(sentence) for sentence in summary]\n",
        "\n",
        "def clean_text(text):\n",
        "    cleaned_text = re.sub(r'\\[\\d+(,\\s?\\d+)*\\]', '', text)\n",
        "    cleaned_text = re.sub(r'[^\\w\\s\\.\\?\\!]', '', cleaned_text)\n",
        "    cleaned_text = re.sub(r'\\b\\d+\\b', '', cleaned_text)\n",
        "    cleaned_text = cleaned_text.replace('\\n', ' ')\n",
        "    return cleaned_text\n",
        "\n",
        "def get_unique_summary(text, summarizer_class, num_sentences=6):\n",
        "    summary = summarize_text(text, summarizer_class, num_sentences)\n",
        "    unique_sentences = set(summary)\n",
        "\n",
        "    while len(unique_sentences) < num_sentences:\n",
        "        additional_needed = num_sentences - len(unique_sentences)\n",
        "        original_sentences = text.split('.')\n",
        "        for sentence in original_sentences:\n",
        "            if additional_needed <= 0:\n",
        "                break\n",
        "            cleaned_sentence = sentence.strip()\n",
        "            if cleaned_sentence and cleaned_sentence not in unique_sentences:\n",
        "                unique_sentences.add(cleaned_sentence)\n",
        "                additional_needed -= 1\n",
        "\n",
        "    return list(unique_sentences)[:num_sentences]\n",
        "\n",
        "text_for_sum = clean_text(combined_text)\n",
        "\n",
        "luhn_summary = get_unique_summary(text_for_sum, LuhnSummarizer, num_sentences=6)\n",
        "lsa_summary = get_unique_summary(text_for_sum, LsaSummarizer, num_sentences=6)\n",
        "textrank_summary = get_unique_summary(text_for_sum, TextRankSummarizer, num_sentences=6)\n",
        "\n",
        "print(\"Luhn Summary:\")\n",
        "print(\"\\n\".join(luhn_summary), '\\n')\n",
        "\n",
        "print(\"LSA Summary:\")\n",
        "print(\"\\n\".join(lsa_summary), '\\n')\n",
        "\n",
        "print(\"TextRank Summary:\")\n",
        "print(\"\\n\".join(textrank_summary), '\\n')"
      ],
      "metadata": {
        "colab": {
          "base_uri": "https://localhost:8080/"
        },
        "id": "y2vej25kjoZZ",
        "outputId": "4bf3c379-c965-446f-f607-1c1acd5f0d2a"
      },
      "execution_count": null,
      "outputs": [
        {
          "output_type": "stream",
          "name": "stdout",
          "text": [
            "Luhn Summary:\n",
            "Abstract Music plagiarism detector is an alternative approach for music genre classification which converts  the audio signal into spectrograms and then extracts features from this visual representation.\n",
            "Furthermore for applications such as radio  monitoring search times on the order of a few milliseconds per query are attained even on a massive music  database.\n",
            "Unlike such previous systems as  our plagiarism detection system has  its unique characteristics as follows   A novel similarity model it solves the problem of misjudgment by supporting  alignment as well as shifting in the similarity model.\n",
            "Furthermore for applications such as radio  monitoring search times on the order of a few milliseconds per query are attained even on a massive music  database\n",
            "In this paper we address the development of a system that detects plagiarism  based on the similar melody searching which is an operation that finds the melodies  similar to a given query melody from a music database.\n",
            "Introduction In recent years music plagiarism has become a  serious issue in the music industry \n",
            "\n",
            "LSA Summary:\n",
            "When two music share the unique parts of melody which is rarely uses in others plagiarism can be suspected.\n",
            "This paper addresses the development of a system that detects plagiarism based on similar melody searching.\n",
            "With our plagiarism detection system composers can easily  search for the melodies similar to their ones from music databases.\n",
            "Despite of  its great advance audio search has been less investigated than either image or video  searches .\n",
            "With our plagiarism detection system composers can easily search for  the melodies similar to their ones from music databases.\n",
            "Introduction In recent years music plagiarism has become a  serious issue in the music industry \n",
            "\n",
            "TextRank Summary:\n",
            "In the Common Subsequence Search  Modules the similar section of the music in the  database is detected.\n",
            "In Similarity Calculation Modules the  similarity between the note sequence of the input  polyphonic music and those of music in the database is  calculated.\n",
            "Here si denotes the ith tone of a melody and sLi denotes the length of the ith tone of a melody.\n",
            "In this paper we address the development of a system that detects plagiarism  based on the similar melody searching which is an operation that finds the melodies  similar to a given query melody from a music database.\n",
            "Then it  calculates the melody similarity to the music in the  database and retrieves the plagiarized music.\n",
            "The second consideration is the processing time that is the time required for  our algorithm to obtain a result.through out the project. \n",
            "\n"
          ]
        }
      ]
    },
    {
      "cell_type": "markdown",
      "source": [
        "## Разработка и тестирование определения тональности текста.\n"
      ],
      "metadata": {
        "id": "Nxr3R6jLhQXU"
      }
    },
    {
      "cell_type": "code",
      "source": [
        "from nltk.sentiment import SentimentIntensityAnalyzer\n",
        "from sklearn.metrics import confusion_matrix, accuracy_score\n",
        "import seaborn as sns\n",
        "import matplotlib.pyplot as plt\n",
        "import pandas as pd\n",
        "import numpy as np\n",
        "\n",
        "nltk.download('vader_lexicon')"
      ],
      "metadata": {
        "id": "qQ2965bqhaDy",
        "colab": {
          "base_uri": "https://localhost:8080/"
        },
        "outputId": "cbfb04f8-1a67-4b69-bfa3-fd2bbc302291"
      },
      "execution_count": null,
      "outputs": [
        {
          "output_type": "stream",
          "name": "stderr",
          "text": [
            "[nltk_data] Downloading package vader_lexicon to /root/nltk_data...\n",
            "[nltk_data]   Package vader_lexicon is already up-to-date!\n"
          ]
        },
        {
          "output_type": "execute_result",
          "data": {
            "text/plain": [
              "True"
            ]
          },
          "metadata": {},
          "execution_count": 44
        }
      ]
    },
    {
      "cell_type": "code",
      "source": [
        "sia = SentimentIntensityAnalyzer()\n",
        "\n",
        "sentiment_weights = {\n",
        "    'love': 1.0,\n",
        "    'fantastic': 1.0,\n",
        "    'best': 1.0,\n",
        "    'happy': 1.0,\n",
        "    'hate': -1.0,\n",
        "    'worst': -1.0,\n",
        "    'terrible': -1.0,\n",
        "    'okay': 0.0,\n",
        "    'special': 0.0,\n",
        "    'not sure': 1.0,\n",
        "    'never buy': -1.0,\n",
        "    'average': 0,\n",
        "    'could have been': 0,\n",
        "    'average': 0,\n",
        "}\n",
        "\n",
        "def analyze_sentiment(sentence, weights):\n",
        "  sentiment_score = sia.polarity_scores(sentence)['compound']\n",
        "\n",
        "  custom_score = 0.0\n",
        "  for word in sentence.split():\n",
        "      word = word.lower()\n",
        "      if word in weights:\n",
        "          if weights[word] != 0:\n",
        "              custom_score += weights[word]\n",
        "          else:\n",
        "              sentiment_score = 0\n",
        "\n",
        "  combined_score = sentiment_score + custom_score\n",
        "\n",
        "  if combined_score > 0.05:\n",
        "      return 'positive'\n",
        "  elif combined_score < -0.05:\n",
        "      return 'negative'\n",
        "  else:\n",
        "      return 'neutral'\n",
        "\n",
        "data = {\n",
        "    'text': [\n",
        "        'I love this product',\n",
        "        'This is the worst thing ever',\n",
        "        'Absolutely fantastic!',\n",
        "        'Terrible experience',\n",
        "        'It was okay',\n",
        "        'Best purchase I made',\n",
        "        'I hate it',\n",
        "        'Nothing special',\n",
        "        'I am very happy with it',\n",
        "        'This is amazing!',\n",
        "        'Extremely disappointed',\n",
        "        'It could have been better',\n",
        "        'Just average, nothing great',\n",
        "        'Loved every moment of using it',\n",
        "        'Awful, would not recommend',\n",
        "        'Superb quality!',\n",
        "        'Disastrous',\n",
        "        'Not worth the money',\n",
        "        'Completely satisfied',\n",
        "        'Satisfactory performance',\n",
        "        'Quite enjoyable',\n",
        "        'Really bad experience',\n",
        "        'Fairly decent',\n",
        "        'Ruined my entire day',\n",
        "        'The packaging was good',\n",
        "        'I’m pleased with my purchase',\n",
        "        'It was a decent buy',\n",
        "        'Fantastic! Exceeded my hopes',\n",
        "        'Absolutely useless',\n",
        "        'Impressed with the results',\n",
        "        'Could be improved',\n",
        "        'Pathetic service',\n",
        "        'Thrilled with it',\n",
        "        'Boring',\n",
        "        'It made my day',\n",
        "    ],\n",
        "    'sentiment': [\n",
        "        'positive',\n",
        "        'negative',\n",
        "        'positive',\n",
        "        'negative',\n",
        "        'neutral',\n",
        "        'positive',\n",
        "        'negative',\n",
        "        'neutral',\n",
        "        'positive',\n",
        "        'positive',\n",
        "        'negative',\n",
        "        'neutral',\n",
        "        'neutral',\n",
        "        'positive',\n",
        "        'negative',\n",
        "        'positive',\n",
        "        'negative',\n",
        "        'negative',\n",
        "        'positive',\n",
        "        'neutral',\n",
        "        'positive',\n",
        "        'negative',\n",
        "        'neutral',\n",
        "        'negative',\n",
        "        'positive',\n",
        "        'positive',\n",
        "        'neutral',\n",
        "        'positive',\n",
        "        'negative',\n",
        "        'positive',\n",
        "        'neutral',\n",
        "        'negative',\n",
        "        'positive',\n",
        "        'negative',\n",
        "        'positive',\n",
        "    ]\n",
        "}\n",
        "\n",
        "df = pd.DataFrame(data)\n",
        "\n",
        "df['predicted_sentiment'] = df['text'].apply(lambda x: analyze_sentiment(x, sentiment_weights))\n",
        "\n",
        "conf_matrix = confusion_matrix(df['sentiment'], df['predicted_sentiment'], labels=['negative', 'neutral', 'positive'])\n",
        "\n",
        "plt.figure(figsize=(8, 6))\n",
        "sns.heatmap(conf_matrix, annot=True, fmt='d', cmap='Blues', xticklabels=['negative', 'neutral', 'positive'], yticklabels=['negative', 'neutral', 'positive'])\n",
        "plt.xlabel('Predicted Sentiment')\n",
        "plt.ylabel('Expected Sentiment')\n",
        "plt.title('Confusion Matrix for Sentiment Classification')\n",
        "plt.show()\n",
        "\n",
        "accuracy = accuracy_score(df['sentiment'], df['predicted_sentiment'])\n",
        "print(f\"Classification Accuracy: {accuracy:.2f}\")\n",
        "\n",
        "misclassified = df[df['sentiment'] != df['predicted_sentiment']]\n",
        "print(\"\\nMisclassified Sentences:\")\n",
        "print(misclassified[['text', 'sentiment', 'predicted_sentiment']])\n"
      ],
      "metadata": {
        "colab": {
          "base_uri": "https://localhost:8080/",
          "height": 720
        },
        "id": "wYW7V4p0tz5r",
        "outputId": "c78874f3-62d3-473e-d954-dfe46e2acc46"
      },
      "execution_count": null,
      "outputs": [
        {
          "output_type": "display_data",
          "data": {
            "text/plain": [
              "<Figure size 800x600 with 2 Axes>"
            ],
            "image/png": "[encoded data removed]"
          },
          "metadata": {}
        },
        {
          "output_type": "stream",
          "name": "stdout",
          "text": [
            "Classification Accuracy: 0.86\n",
            "\n",
            "Misclassified Sentences:\n",
            "                           text sentiment predicted_sentiment\n",
            "11    It could have been better   neutral            positive\n",
            "12  Just average, nothing great   neutral            negative\n",
            "19     Satisfactory performance   neutral            positive\n",
            "30            Could be improved   neutral            positive\n",
            "34               It made my day  positive             neutral\n"
          ]
        }
      ]
    },
    {
      "cell_type": "markdown",
      "source": [
        "## Разработка и тестирование методов выделения упоминаний о чем либо в тексте.\n"
      ],
      "metadata": {
        "id": "zNyfsKl8habq"
      }
    },
    {
      "cell_type": "code",
      "source": [
        "import pandas as pd\n",
        "import string\n",
        "from collections import Counter\n",
        "from nltk.corpus import stopwords\n",
        "\n",
        "lemmatizer = WordNetLemmatizer()\n",
        "nltk.download('stopwords')\n",
        "stop_words = set(stopwords.words('english'))\n",
        "extra_stop_words = {'oh', 'ooh', 'ah', 'na', 'yeah', 'uh', 'la', 'na', 'woo', 'mmm', 'hey', 'hoo', 'doo'}\n",
        "stop_words.update(extra_stop_words)"
      ],
      "metadata": {
        "colab": {
          "base_uri": "https://localhost:8080/"
        },
        "id": "69pOrZkldolh",
        "outputId": "33acfbd2-94bf-46c1-b3af-25e87baf4d46"
      },
      "execution_count": null,
      "outputs": [
        {
          "output_type": "stream",
          "name": "stderr",
          "text": [
            "[nltk_data] Downloading package stopwords to /root/nltk_data...\n",
            "[nltk_data]   Package stopwords is already up-to-date!\n"
          ]
        }
      ]
    },
    {
      "cell_type": "code",
      "source": [
        "def clean_and_tokenize(text):\n",
        "  text = re.sub(r'[^\\w\\s]', ' ', text).lower()\n",
        "  tokens = [lemmatizer.lemmatize(word) for word in text.split() if word not in stop_words]\n",
        "  return tokens\n",
        "\n",
        "df_songs = pd.read_csv('songs.csv')\n",
        "\n",
        "genre_word_counts = {}\n",
        "\n",
        "for genre in df_songs['Genre'].unique():\n",
        "  genre_lyrics = df_songs[df_songs['Genre'] == genre]['Lyrics'].apply(clean_and_tokenize).sum()\n",
        "  word_count = Counter(genre_lyrics)\n",
        "\n",
        "  genre_word_counts[genre] = word_count\n",
        "\n",
        "for genre, word_count in genre_word_counts.items():\n",
        "  print(f\"\\nTop 10 words in {genre}:\")\n",
        "  for word, count in word_count.most_common(10):\n",
        "      print(f\"{word}: {count}\")\n",
        "\n",
        "categories = {\n",
        "  'time_of_day': ['morning', 'afternoon', 'evening', 'night', 'dawn', 'sunset', 'sunrise'],\n",
        "  'seasons': ['spring', 'summer', 'autumn', 'fall', 'winter'],\n",
        "  'body_parts': ['hand', 'head', 'heart', 'eye', 'face', 'foot', 'leg', 'arm', 'back']\n",
        "}\n",
        "\n",
        "category_results = {genre: {} for genre in df_songs['Genre'].unique()}\n",
        "\n",
        "for genre in df_songs['Genre'].unique():\n",
        "  word_count = genre_word_counts[genre]\n",
        "\n",
        "  for category, words in categories.items():\n",
        "      category_results[genre][category] = {word: word_count[word] for word in words if word in word_count}\n",
        "\n",
        "for genre, categories in category_results.items():\n",
        "    print(f\"\\nCategory-wise words in {genre}:\")\n",
        "    for category, words in categories.items():\n",
        "        sorted_words = dict(sorted(words.items(), key=lambda item: item[1], reverse=True))\n",
        "        print(f\"{category}: {sorted_words}\")\n",
        "\n",
        "common_words = set(genre_word_counts[list(genre_word_counts.keys())[0]].keys())\n",
        "\n",
        "for genre in genre_word_counts:\n",
        "  common_words &= {word for word, count in genre_word_counts[genre].items() if count <= 3}\n",
        "\n",
        "common_words_list = list(common_words)\n",
        "print(f\"\\nWords appearing in all genres no more than 3 times:\")\n",
        "print(common_words_list)"
      ],
      "metadata": {
        "colab": {
          "base_uri": "https://localhost:8080/"
        },
        "id": "8mn9_C5Gh9WN",
        "outputId": "28718523-ec93-4f93-e0e8-e7309a1231f8"
      },
      "execution_count": null,
      "outputs": [
        {
          "output_type": "stream",
          "name": "stdout",
          "text": [
            "\n",
            "Top 10 words in Pop:\n",
            "shake: 72\n",
            "like: 43\n",
            "gonna: 37\n",
            "happy: 34\n",
            "cause: 31\n",
            "know: 26\n",
            "along: 26\n",
            "feel: 24\n",
            "clap: 24\n",
            "baby: 21\n",
            "\n",
            "Top 10 words in Rock:\n",
            "let: 37\n",
            "sun: 25\n",
            "go: 19\n",
            "come: 17\n",
            "eye: 14\n",
            "word: 13\n",
            "without: 13\n",
            "one: 12\n",
            "night: 12\n",
            "say: 10\n",
            "\n",
            "Top 10 words in Jazz:\n",
            "know: 25\n",
            "dream: 17\n",
            "day: 15\n",
            "love: 14\n",
            "new: 13\n",
            "night: 11\n",
            "sky: 10\n",
            "feel: 10\n",
            "see: 9\n",
            "word: 9\n",
            "\n",
            "Top 10 words in Hip-Hop:\n",
            "go: 44\n",
            "like: 44\n",
            "glory: 42\n",
            "right: 35\n",
            "come: 34\n",
            "back: 33\n",
            "know: 30\n",
            "new: 30\n",
            "wish: 28\n",
            "get: 26\n",
            "\n",
            "Category-wise words in Pop:\n",
            "time_of_day: {'night': 2}\n",
            "seasons: {'fall': 3, 'summer': 1}\n",
            "body_parts: {'eye': 9, 'heart': 7, 'back': 4, 'face': 3, 'arm': 3, 'foot': 2, 'hand': 1, 'head': 1}\n",
            "\n",
            "Category-wise words in Rock:\n",
            "time_of_day: {'night': 12, 'morning': 1}\n",
            "seasons: {'summer': 1, 'winter': 1}\n",
            "body_parts: {'eye': 14, 'face': 6, 'back': 6, 'hand': 2, 'head': 2, 'heart': 1, 'foot': 1}\n",
            "\n",
            "Category-wise words in Jazz:\n",
            "time_of_day: {'night': 11, 'dawn': 6, 'morning': 3}\n",
            "seasons: {'autumn': 3, 'spring': 2, 'fall': 2, 'winter': 2, 'summer': 1}\n",
            "body_parts: {'hand': 4, 'back': 4, 'heart': 3, 'eye': 3, 'face': 1, 'foot': 1, 'arm': 1}\n",
            "\n",
            "Category-wise words in Hip-Hop:\n",
            "time_of_day: {'night': 18, 'morning': 4}\n",
            "seasons: {'fall': 3, 'winter': 1}\n",
            "body_parts: {'back': 33, 'hand': 18, 'head': 13, 'arm': 3, 'eye': 2, 'face': 2, 'foot': 1}\n",
            "\n",
            "Words appearing in all genres no more than 3 times:\n",
            "['smile', 'went', 'sound', 'used', 'town', 'sleep', 'sing', 'foot', 'shine']\n"
          ]
        }
      ]
    }
  ]
}